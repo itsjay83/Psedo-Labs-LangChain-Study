{
 "cells": [
  {
   "cell_type": "markdown",
   "id": "1a65e4c9",
   "metadata": {},
   "source": [
    "# Example selectors\n",
    "\n",
    "만약 많은 수의 예시를 가지고 있다면, 프롬프트에 포함할 예시를 선택해야 할 수도 있다. 예시 선택기(Example Selector)는 이를 담당하는 클래스다.\n",
    "\n",
    "기본 인터페이스는 아래와 같이 정의된다:\n",
    "\n",
    "```python\n",
    "class BaseExampleSelector(ABC):\n",
    "    \"\"\"Interface for selecting examples to include in prompts.\"\"\"\n",
    "\n",
    "    @abstractmethod\n",
    "    def select_examples(self, input_variables: Dict[str, str]) -> List[dict]:\n",
    "        \"\"\"Select which examples to use based on the inputs.\"\"\"\n",
    "        \n",
    "    @abstractmethod\n",
    "    def add_example(self, example: Dict[str, str]) -> Any:\n",
    "        \"\"\"Add new example to store.\"\"\"\n",
    "```\n",
    "\n",
    "\n",
    "정의해야 할 유일한 메소드는 `select_examples` 메소드다. 이 메소드는 입력 변수를 받아들이고 예시의 목록을 반환한다. 그 예시들이 어떻게 선택되는지는 각 구현에 따라 달라진다."
   ]
  },
  {
   "cell_type": "markdown",
   "id": "638e9039",
   "metadata": {},
   "source": [
    "## Examples\n",
    "\n",
    "예시 선택기를 사용하기 위해서는 예시의 목록을 생성해야 한다. 이들은 일반적으로 예시 입력과 출력이어야 한다. 데모 목적으로, 우리가 영어를 이탈리아어로 번역하는 예시를 선택한다고 상상해 보자."
   ]
  },
  {
   "cell_type": "code",
   "execution_count": 36,
   "id": "48658d53",
   "metadata": {},
   "outputs": [],
   "source": [
    "examples = [\n",
    "    {\"input\": \"hi\", \"output\": \"ciao\"},\n",
    "    {\"input\": \"bye\", \"output\": \"arrivaderci\"},\n",
    "    {\"input\": \"soccer\", \"output\": \"calcio\"},\n",
    "]"
   ]
  },
  {
   "cell_type": "markdown",
   "id": "c2830b49",
   "metadata": {},
   "source": [
    "## Custom Example Selector\n",
    "\n",
    "단어의 길이를 기반으로 어떤 예시를 선택할지 결정하는 예시 선택기를 작성해 보자"
   ]
  },
  {
   "cell_type": "code",
   "execution_count": 37,
   "id": "56b740a1",
   "metadata": {},
   "outputs": [],
   "source": [
    "from langchain_core.example_selectors.base import BaseExampleSelector\n",
    "\n",
    "\n",
    "class CustomExampleSelector(BaseExampleSelector):\n",
    "    def __init__(self, examples):\n",
    "        self.examples = examples\n",
    "\n",
    "    def add_example(self, example):\n",
    "        self.examples.append(example)\n",
    "\n",
    "    def select_examples(self, input_variables):\n",
    "        # 이는 입력의 일부가 'text' 키가 될 것이라는 지식을 가정한다.\n",
    "        new_word = input_variables[\"input\"]\n",
    "        new_word_length = len(new_word)\n",
    "\n",
    "        # 최적의 매치와 그 길이 차이를 저장할 변수를 초기화한다.\n",
    "        best_match = None\n",
    "        smallest_diff = float(\"inf\")\n",
    "\n",
    "        # 각 예시를 순회한다.\n",
    "        for example in self.examples:\n",
    "            # 예시의 첫 번째 단어와의 길이 차이를 계산한다.\n",
    "            current_diff = abs(len(example[\"input\"]) - new_word_length)\n",
    "\n",
    "            # 현재의 것이 길이에 더 가까우면 최적의 매치를 업데이트한다.\n",
    "            if current_diff < smallest_diff:\n",
    "                smallest_diff = current_diff\n",
    "                best_match = example\n",
    "\n",
    "        return [best_match]"
   ]
  },
  {
   "cell_type": "code",
   "execution_count": 38,
   "id": "ce928187",
   "metadata": {},
   "outputs": [],
   "source": [
    "example_selector = CustomExampleSelector(examples)"
   ]
  },
  {
   "cell_type": "code",
   "execution_count": 39,
   "id": "37ef3149",
   "metadata": {},
   "outputs": [
    {
     "data": {
      "text/plain": [
       "[{'input': 'bye', 'output': 'arrivaderci'}]"
      ]
     },
     "execution_count": 39,
     "metadata": {},
     "output_type": "execute_result"
    }
   ],
   "source": [
    "example_selector.select_examples({\"input\": \"okay\"})"
   ]
  },
  {
   "cell_type": "code",
   "execution_count": 40,
   "id": "c5ad9f35",
   "metadata": {},
   "outputs": [],
   "source": [
    "example_selector.add_example({\"input\": \"hand\", \"output\": \"mano\"})"
   ]
  },
  {
   "cell_type": "code",
   "execution_count": 41,
   "id": "e4127fe0",
   "metadata": {},
   "outputs": [
    {
     "data": {
      "text/plain": [
       "[{'input': 'hand', 'output': 'mano'}]"
      ]
     },
     "execution_count": 41,
     "metadata": {},
     "output_type": "execute_result"
    }
   ],
   "source": [
    "example_selector.select_examples({\"input\": \"okay\"})"
   ]
  },
  {
   "cell_type": "markdown",
   "id": "786c920c",
   "metadata": {},
   "source": [
    "## Use in a Prompt\n",
    "\n",
    "이제 이 예시 선택기를 프롬프트에서 사용할 수 있습니다."
   ]
  },
  {
   "cell_type": "code",
   "execution_count": 42,
   "id": "619090e2",
   "metadata": {},
   "outputs": [],
   "source": [
    "from langchain_core.prompts.few_shot import FewShotPromptTemplate\n",
    "from langchain_core.prompts.prompt import PromptTemplate\n",
    "\n",
    "example_prompt = PromptTemplate.from_template(\"Input: {input} -> Output: {output}\")"
   ]
  },
  {
   "cell_type": "code",
   "execution_count": 43,
   "id": "5934c415",
   "metadata": {},
   "outputs": [
    {
     "name": "stdout",
     "output_type": "stream",
     "text": [
      "Translate the following words from English to Italain:\n",
      "\n",
      "Input: hand -> Output: mano\n",
      "\n",
      "Input: word -> Output:\n"
     ]
    }
   ],
   "source": [
    "prompt = FewShotPromptTemplate(\n",
    "    example_selector=example_selector,\n",
    "    example_prompt=example_prompt,\n",
    "    suffix=\"Input: {input} -> Output:\",\n",
    "    prefix=\"Translate the following words from English to Italain:\",\n",
    "    input_variables=[\"input\"],\n",
    ")\n",
    "\n",
    "print(prompt.format(input=\"word\"))"
   ]
  },
  {
   "cell_type": "code",
   "execution_count": null,
   "id": "8a6e0abe",
   "metadata": {},
   "outputs": [],
   "source": []
  }
 ],
 "metadata": {
  "kernelspec": {
   "display_name": "Python 3 (ipykernel)",
   "language": "python",
   "name": "python3"
  },
  "language_info": {
   "codemirror_mode": {
    "name": "ipython",
    "version": 3
   },
   "file_extension": ".py",
   "mimetype": "text/x-python",
   "name": "python",
   "nbconvert_exporter": "python",
   "pygments_lexer": "ipython3",
   "version": "3.12.2"
  }
 },
 "nbformat": 4,
 "nbformat_minor": 5
}
