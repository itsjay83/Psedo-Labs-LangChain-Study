{
 "cells": [
  {
   "cell_type": "markdown",
   "metadata": {},
   "source": [
    "# Introduction\n",
    "\n",
    "## What is 🦜LangChain ?\n",
    "\n",
    "[```LangChain```](https://www.langchain.com/) 이란? : [```LangChain```](https://www.langchain.com/)은 언어 보델을 활용한 애플리케이션 개발을 위한 프레임워크로, 애플리케이션이 맥락을 인식하고, 제공된 맥락에 기반해 어떻게 대답하거나 어떤 행동을 취할지에 대해 언어 모델을 활용하여 추론할 수 있게 한다.\n",
    "\n",
    "## Why use 🦜LangChain?\n",
    "\n",
    "1. **맥락 인식 애플리케이션 (Are context-aware)** : LangChain은 애플리케이션이 주어진 맥락(프롬프트 지시, 몇 가지 예시, 응답을 기반으로 할 콘텐츠 등)을 이해하고 이에 따라 행동할 수 있도록 지원한다. 이는 사용자의 요구 사항을 더 정확하게 파악하고 충족시킬 수 있는 애플리케이션을 만드는 데 필수적 이라고 할 수 있다.\n",
    "\n",
    "2. **추론 기능 (Reason)** : 제공된 맥락을 바탕으로 언어 모델이 어떻게 대답하거나 어떤 행동을 취해야 하는지 추론할 수 있게 함으로써, 애플리케이션이 더 지능적이고 독립적으로 작동할 수 있게 한다.\n",
    "\n",
    "랭채인은 다음과 같은 여러 부분으로 구성되어 있다.\n",
    "\n",
    "1. **LangChain Libraries** : Python과 JavaScript 라이브러리이다. 다양한 컴포넌트의 인터페이스와 통합을 포함하고, 이러한 컴포넌트를 체인과 에이전트로 결합하기 위한 기본 런타임, 그리고 체인과 에이전트의 현장에서 사용할 수 있는 구현을 제공한다.\n",
    "2. **LangChain Template** : 다양한 작업을 위한 쉽게 배포할 수 있는 참조 아키텍처 모음이다.\n",
    "3. **LangServe** : LangChain 체인을 REST API로 배포하기 위한 라이브러리이다.\n",
    "4. **LangSmith** : 모든 LLM 프레임워크 위에 구축된 체인을 디버깅, 테스트, 평가, 모니터링할 수 있는 개발자 플랫폼으로, LangChain과 원활하게 통합된다.\n",
    "\n",
    "<!-- ![alt text](https://python.langchain.com/svg/langchain_stack_dark.svg){width=100 height=100} -->\n",
    "\n",
    "<img src=\"https://python.langchain.com/svg/langchain_stack_dark.svg\" width=\"50%\" />\n",
    "\n",
    "이러한 제품들을 사용하여 전체 애플리케이션 수명주기를 간소화 할 수 있다. :\n",
    "\n",
    "1. **개발 (Develop)** : LangChain/LangChain.js로 애플리케이션을 작성할 수 있다. 참조용 템플릿을 사용하여 바로 시작할 수 있다.\n",
    "2. **상용화 (Productionize)** : LangSmith를 사용하여 체인을 검사, 테스트 및 모니터링하여, 지속적으로 개선하고 자신감을 가지고 배포할 수 있다.\n",
    "3. **배포 (Deploy)** : LangServe로 어떤 체인이든 API로 전환할 수 있다.\n",
    "\n",
    "## LangChain Libraries\n",
    "\n",
    "LangChain 패키지의 주요 가치 제안은 다음과 같습니다:\n",
    "\n",
    "1. **컴포넌트 (Components)** : 언어 모델을 다루기 위한 조립 가능한 도구와 통합으로, 컴포넌트는 모듈식이며 사용하기 쉬우며, LangChain 프레임워크의 나머지 부분을 사용하고 있지 않더라도 마찬가지 이다.\n",
    "2. **현장에서 사용할 수 있는 체인(Off-the-shelf chains)** : 더 높은 수준의 작업을 수행하기 위한 컴포넌트의 조립품이다.\n",
    "현장에서 사용할 수 있는 체인은 시작하기 쉽게 만들어 줍니다. 컴포넌트는 기존 체인을 사용자 정의하고 새로운 체인을 구축하는 것을 쉽게 만든다.\n",
    "\n",
    "LangChain 라이브러리 자체는 여러 다른 패키지로 구성되어 있다.\n",
    "\n",
    "```langchain-core``` : 기본 추상화와 LangChain 표현 언어.\\\n",
    "```langchain-community``` : 제3자 통합.\\\n",
    "```langchain``` : 어플리케이션의 인지 아키텍처를 구성하는 체인, 에이전트, 검색 전략."
   ]
  }
 ],
 "metadata": {
  "language_info": {
   "name": "python"
  }
 },
 "nbformat": 4,
 "nbformat_minor": 2
}
