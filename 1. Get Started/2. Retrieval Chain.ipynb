{
 "cells": [
  {
   "cell_type": "markdown",
   "metadata": {},
   "source": [
    "# Retrieval Chain\n",
    "\n",
    "원래 질문(\"langsmith가 테스트에 어떻게 도움이 될 수 있는가?\")에 제대로 답하기 위해서, 우리는 LLM에게 추가적인 문맥을 제공할 필요가 있습니다. \n",
    "이를 위해 검색을 통한 정보 제공을 사용할 수 있고, 이는 LLM에게 직접 전달하기에는 너무 많은 데이터가 있을 때 검색이 유용합니다.\n",
    "그럴 때에는 검색기를 사용하여 가장 관련성 높은 자료들만을 가져와서 그것들을 전달할 수 있습니다.\n",
    "\n",
    "이 과정에서, 우리는 검색기로부터 관련 문서를 찾아내고 그것들을 프롬프트에 전달할 것 입니다.\n",
    "검색기는 SQL 테이블, 인터넷 등 무엇이든 될 수 있지만, 이 경우에는 벡터 저장소를 채우고 그것을 검색기로 사용할 것입니다.\n",
    "벡터 저장소에 대한 더 자세한 정보는 [이 문서](https://python.langchain.com/docs/modules/data_connection/vectorstores)를 참조하십쇼."
   ]
  },
  {
   "cell_type": "code",
   "execution_count": null,
   "metadata": {},
   "outputs": [],
   "source": []
  }
 ],
 "metadata": {
  "kernelspec": {
   "display_name": "env",
   "language": "python",
   "name": "python3"
  },
  "language_info": {
   "name": "python",
   "version": "3.12.2"
  }
 },
 "nbformat": 4,
 "nbformat_minor": 2
}
