{
 "cells": [
  {
   "cell_type": "markdown",
   "metadata": {},
   "source": [
    "# Interface\n",
    "\n",
    "\"Runnable\" 프로토콜은 사용자 정의 체인을 가능한 한 쉽게 만들 수 있도록 설계되었습니다. 대부분의 구성 요소에 대해 구현되어 있으며, 이는 표준 인터페이스를 통해 사용자 정의 체인을 정의하고 표준 방식으로 호출할 수 있게 합니다. \n",
    "\n",
    "이 표준 인터페이스는 다음을 포함합니다:\n",
    "\n",
    "1. stream: 응답의 청크를 스트리밍 방식으로 반환합니다.\n",
    "2. invoke: 입력에 대해 체인을 호출합니다.\n",
    "3. batch: 입력 목록에 대해 체인을 호출합니다.\n",
    "\n",
    "이러한 메소드에는 해당하는 비동기 메소드도 있어, 다양한 실행 환경과 요구 사항에 따라 유연하게 \n",
    "대응할 수 있습니다:\n",
    "\n",
    "1. astream: 응답의 청크를 비동기로 스트리밍 방식으로 반환합니다.\n",
    "2. ainvoke: 입력에 대해 체인을 비동기로 호출합니다.\n",
    "3. abatch: 입력 목록에 대해 체인을 비동기로 호출합니다.\n",
    "3. astream_log: 최종 응답뿐만 아니라 발생하는 중간 단계를 스트리밍 방식으로 반환합니다. 이를 통해 개발자는 체인의 실행 과정을 더 잘 이해하고 디버깅할 수 있습니다.\n",
    "5. astream_events: 체인에서 발생하는 이벤트를 실시간으로 스트리밍 방식으로 반환합니다. 이는 langchain-core 0.1.14에서 도입된 베타 기능으로, 체인의 동작을 더 세밀하게 추적할 수 있게 합니다.\n",
    "\n",
    "이 인터페이스는 LCEL을 사용하는 개발자가 더 복잡하고 다기능적인 애플리케이션을 손쉽게 구축할 수 있도록 지원합니다. 비동기 실행 지원은 특히 현대적인 웹 애플리케이션 및 데이터 처리 워크플로우에서 중요한 역할을 하며, LCEL 체인을 사용하여 고성능 및 대응성 높은 시스템을 설계할 수 있습니다.\n",
    "\n",
    "각 구성 요소의 입력 유형과 출력 유형은 구성 요소에 따라 다릅니다:\n",
    "| Component    | Input Type                                | Output Type               |\n",
    "|--------------|-------------------------------------------|---------------------------|\n",
    "| Prompt       | 사전(Dictionary)                           | PromptValue               |\n",
    "| ChatModel    | 단일 문자열, 채팅 메시지 목록 또는 PromptValue    | ChatMessage   |\n",
    "| LLM          | 단일 문자열, 채팅 메시지 목록 또는 PromptValue    | 문자열(String)        |\n",
    "| OutputParser | LLM 또는 ChatModel의 출력        | 파서에 따라 다름      |\n",
    "| Retriever    | 단일 문자열                             | 문서 목록(List of Documents)         |\n",
    "| Tool         | 단일 문자열 또는 도구에 따라 사전 | 도구에 따라 다름|\n",
    "\n",
    "모든 Runnable은 입력과 출력 스키마를 노출하여 Runnable의 구조로부터 자동 생성된 입력 및 출력 Pydantic 모델을 검사할 수 있습니다:\n",
    "\n",
    "`input_schema`: Runnable의 구조로부터 자동 생성된 입력 Pydantic 모델\n",
    "\n",
    "`output_schema`: Runnable의 구조로부터 자동 생성된 출력 Pydantic 모델\n",
    "이 메소드들을 살펴보겠습니다. 이를 위해, 매우 간단한 PromptTemplate + ChatModel 체인을 생성해 보겠습니다."
   ]
  },
  {
   "cell_type": "code",
   "execution_count": 1,
   "metadata": {},
   "outputs": [
    {
     "name": "stdout",
     "output_type": "stream",
     "text": [
      "Note: you may need to restart the kernel to use updated packages.\n"
     ]
    }
   ],
   "source": [
    "%pip install --upgrade --quiet langchain-core langchain-community langchain-openai"
   ]
  },
  {
   "cell_type": "code",
   "execution_count": null,
   "metadata": {},
   "outputs": [],
   "source": [
    "# langchain_core의 prompts 모듈에서 ChatPromptTemplate 클래스를 가져옵니다.\n",
    "from langchain_core.prompts import ChatPromptTemplate\n",
    "# langchain_openai 모듈에서 ChatOpenAI 클래스를 가져옵니다.\n",
    "from langchain_openai import ChatOpenAI\n",
    "\n",
    "# ChatOpenAI 모델의 인스턴스를 생성합니다. 이 모델은 OpenAI의 GPT 모델을 사용하여 텍스트를 생성합니다.\n",
    "model = ChatOpenAI()\n",
    "# \"tell me a joke about {topic}\" 형태의 프롬프트 템플릿을 생성합니다. {topic}은 사용자로부터 입력받은 주제로 대체됩니다.\n",
    "prompt = ChatPromptTemplate.from_template(\"tell me a joke about {topic}\")\n",
    "# 프롬프트와 모델을 연결하여 체인을 생성합니다. 이 체인은 사용자로부터 주제를 입력받아 해당 주제에 관한 농담을 생성하는 데 사용됩니다.\n",
    "chain = prompt | model"
   ]
  },
  {
   "cell_type": "markdown",
   "metadata": {},
   "source": [
    "## Input Schema"
   ]
  },
  {
   "cell_type": "code",
   "execution_count": null,
   "metadata": {},
   "outputs": [],
   "source": [
    "model.input_schema.schema()"
   ]
  },
  {
   "cell_type": "code",
   "execution_count": null,
   "metadata": {},
   "outputs": [],
   "source": [
    "{\n",
    "  \"title\": \"PromptInput\",\n",
    "  \"type\": \"object\",\n",
    "  \"properties\": {\n",
    "    \"topic\": {\n",
    "      \"title\": \"Topic\",\n",
    "      \"type\": \"string\"\n",
    "    }\n",
    "  }\n",
    "}"
   ]
  },
  {
   "cell_type": "markdown",
   "metadata": {},
   "source": [
    "`prompt.input_schema.schema()`를 호출하는 것도 동일한 결과를 반환합니다. 이는 체인의 시작 부분인 프롬프트가 설정한 입력 규칙이 체인 전체의 입력 규칙을 정의한다는 것을 보여줍니다:"
   ]
  },
  {
   "cell_type": "code",
   "execution_count": null,
   "metadata": {},
   "outputs": [],
   "source": [
    "{\n",
    "  \"title\": \"PromptInput\",\n",
    "  \"type\": \"object\",\n",
    "  \"properties\": {\n",
    "    \"topic\": {\n",
    "      \"title\": \"Topic\",\n",
    "      \"type\": \"string\"\n",
    "    }\n",
    "  }\n",
    "}"
   ]
  },
  {
   "cell_type": "markdown",
   "metadata": {},
   "source": [
    "\n",
    "model.input_schema.schema() 호출 결과는 ChatOpenAI 모델이 받아들일 수 있는 입력의 스키마를 보여줍니다. 이 JSON 스키마는 모델이 처리할 수 있는 다양한 유형의 입력을 설명합니다. 다음은 주요 부분의 설명입니다:"
   ]
  },
  {
   "cell_type": "code",
   "execution_count": null,
   "metadata": {},
   "outputs": [],
   "source": [
    "{'title': 'ChatOpenAIInput',\n",
    " 'anyOf': [{'type': 'string'},\n",
    "  {'$ref': '#/definitions/StringPromptValue'},\n",
    "  {'$ref': '#/definitions/ChatPromptValueConcrete'},\n",
    "  {'type': 'array',\n",
    "   'items': {'anyOf': [{'$ref': '#/definitions/AIMessage'},\n",
    "     {'$ref': '#/definitions/HumanMessage'},\n",
    "     {'$ref': '#/definitions/ChatMessage'},\n",
    "     {'$ref': '#/definitions/SystemMessage'},\n",
    "     {'$ref': '#/definitions/FunctionMessage'},\n",
    "     {'$ref': '#/definitions/ToolMessage'}]}}],\n",
    " 'definitions': {'StringPromptValue': {'title': 'StringPromptValue',\n",
    "   'description': 'String prompt value.',\n",
    "   'type': 'object',\n",
    "   'properties': {'text': {'title': 'Text', 'type': 'string'},\n",
    "    'type': {'title': 'Type',\n",
    "     'default': 'StringPromptValue',\n",
    "     'enum': ['StringPromptValue'],\n",
    "     'type': 'string'}},\n",
    "   'required': ['text']},\n",
    "  'AIMessage': {'title': 'AIMessage',\n",
    "   'description': 'A Message from an AI.',\n",
    "   'type': 'object',\n",
    "   'properties': {'content': {'title': 'Content',\n",
    "     'anyOf': [{'type': 'string'},\n",
    "      {'type': 'array',\n",
    "       'items': {'anyOf': [{'type': 'string'}, {'type': 'object'}]}}]},\n",
    "    'additional_kwargs': {'title': 'Additional Kwargs', 'type': 'object'},\n",
    "    'type': {'title': 'Type',\n",
    "     'default': 'ai',\n",
    "     'enum': ['ai'],\n",
    "     'type': 'string'},\n",
    "    'example': {'title': 'Example', 'default': False, 'type': 'boolean'}},\n",
    "   'required': ['content']},\n",
    "  'HumanMessage': {'title': 'HumanMessage',\n",
    "   'description': 'A Message from a human.',\n",
    "   'type': 'object',\n",
    "   'properties': {'content': {'title': 'Content',\n",
    "     'anyOf': [{'type': 'string'},\n",
    "      {'type': 'array',\n",
    "       'items': {'anyOf': [{'type': 'string'}, {'type': 'object'}]}}]},\n",
    "    'additional_kwargs': {'title': 'Additional Kwargs', 'type': 'object'},\n",
    "    'type': {'title': 'Type',\n",
    "     'default': 'human',\n",
    "     'enum': ['human'],\n",
    "     'type': 'string'},\n",
    "    'example': {'title': 'Example', 'default': False, 'type': 'boolean'}},\n",
    "   'required': ['content']},\n",
    "  'ChatMessage': {'title': 'ChatMessage',\n",
    "   'description': 'A Message that can be assigned an arbitrary speaker (i.e. role).',\n",
    "   'type': 'object',\n",
    "   'properties': {'content': {'title': 'Content',\n",
    "     'anyOf': [{'type': 'string'},\n",
    "      {'type': 'array',\n",
    "       'items': {'anyOf': [{'type': 'string'}, {'type': 'object'}]}}]},\n",
    "    'additional_kwargs': {'title': 'Additional Kwargs', 'type': 'object'},\n",
    "    'type': {'title': 'Type',\n",
    "     'default': 'chat',\n",
    "     'enum': ['chat'],\n",
    "     'type': 'string'},\n",
    "    'role': {'title': 'Role', 'type': 'string'}},\n",
    "   'required': ['content', 'role']},\n",
    "  'SystemMessage': {'title': 'SystemMessage',\n",
    "   'description': 'A Message for priming AI behavior, usually passed in as the first of a sequence\\nof input messages.',\n",
    "   'type': 'object',\n",
    "   'properties': {'content': {'title': 'Content',\n",
    "     'anyOf': [{'type': 'string'},\n",
    "      {'type': 'array',\n",
    "       'items': {'anyOf': [{'type': 'string'}, {'type': 'object'}]}}]},\n",
    "    'additional_kwargs': {'title': 'Additional Kwargs', 'type': 'object'},\n",
    "    'type': {'title': 'Type',\n",
    "     'default': 'system',\n",
    "     'enum': ['system'],\n",
    "     'type': 'string'}},\n",
    "   'required': ['content']},\n",
    "  'FunctionMessage': {'title': 'FunctionMessage',\n",
    "   'description': 'A Message for passing the result of executing a function back to a model.',\n",
    "   'type': 'object',\n",
    "   'properties': {'content': {'title': 'Content',\n",
    "     'anyOf': [{'type': 'string'},\n",
    "      {'type': 'array',\n",
    "       'items': {'anyOf': [{'type': 'string'}, {'type': 'object'}]}}]},\n",
    "    'additional_kwargs': {'title': 'Additional Kwargs', 'type': 'object'},\n",
    "    'type': {'title': 'Type',\n",
    "     'default': 'function',\n",
    "     'enum': ['function'],\n",
    "     'type': 'string'},\n",
    "    'name': {'title': 'Name', 'type': 'string'}},\n",
    "   'required': ['content', 'name']},\n",
    "  'ToolMessage': {'title': 'ToolMessage',\n",
    "   'description': 'A Message for passing the result of executing a tool back to a model.',\n",
    "   'type': 'object',\n",
    "   'properties': {'content': {'title': 'Content',\n",
    "     'anyOf': [{'type': 'string'},\n",
    "      {'type': 'array',\n",
    "       'items': {'anyOf': [{'type': 'string'}, {'type': 'object'}]}}]},\n",
    "    'additional_kwargs': {'title': 'Additional Kwargs', 'type': 'object'},\n",
    "    'type': {'title': 'Type',\n",
    "     'default': 'tool',\n",
    "     'enum': ['tool'],\n",
    "     'type': 'string'},\n",
    "    'tool_call_id': {'title': 'Tool Call Id', 'type': 'string'}},\n",
    "   'required': ['content', 'tool_call_id']},\n",
    "  'ChatPromptValueConcrete': {'title': 'ChatPromptValueConcrete',\n",
    "   'description': 'Chat prompt value which explicitly lists out the message types it accepts.\\nFor use in external schemas.',\n",
    "   'type': 'object',\n",
    "   'properties': {'messages': {'title': 'Messages',\n",
    "     'type': 'array',\n",
    "     'items': {'anyOf': [{'$ref': '#/definitions/AIMessage'},\n",
    "       {'$ref': '#/definitions/HumanMessage'},\n",
    "       {'$ref': '#/definitions/ChatMessage'},\n",
    "       {'$ref': '#/definitions/SystemMessage'},\n",
    "       {'$ref': '#/definitions/FunctionMessage'},\n",
    "       {'$ref': '#/definitions/ToolMessage'}]}},\n",
    "    'type': {'title': 'Type',\n",
    "     'default': 'ChatPromptValueConcrete',\n",
    "     'enum': ['ChatPromptValueConcrete'],\n",
    "     'type': 'string'}},\n",
    "   'required': ['messages']}}}"
   ]
  },
  {
   "cell_type": "markdown",
   "metadata": {},
   "source": [
    "`model.input_schema.schema()` 호출 결과는 ChatOpenAI 모델이 받아들일 수 있는 입력의 스키마를 보여줍니다. 이 JSON 스키마는 모델이 처리할 수 있는 다양한 유형의 입력을 설명합니다. 다음은 주요 부분의 설명입니다:\n",
    "\n",
    "`'anyOf'`: 이 모델은 여러 유형의 입력을 받을 수 있습니다. 단일 문자열, StringPromptValue, ChatPromptValueConcrete, 또는 여러 메시지 유형(AIMessage, HumanMessage, ChatMessage, SystemMessage, FunctionMessage, ToolMessage)의 배열을 입력으로 받을 수 있습니다.\n",
    "\n",
    "`'StringPromptValue'`와 다른 메시지 유형들: 이러한 정의는 모델이 처리할 수 있는 특정 메시지 유형을 상세하게 설명합니다. 예를 들어, AIMessage는 AI로부터 온 메시지를, HumanMessage는 인간 사용자로부터 온 메시지를 나타냅니다. 각 메시지 유형은 content 속성을 포함하며, 추가적인 속성을 가질 수도 있습니다.\n",
    "\n",
    "`'ChatPromptValueConcrete'`: 이 정의는 채팅 프롬프트 값을 나타내며, messages 배열 안에 여러 메시지 유형을 포함할 수 있습니다. 이는 대화식 입력이나 대화 컨텍스트를 모델에 전달할 때 사용됩니다.\n",
    "\n",
    "이 스키마를 통해 ChatOpenAI 모델에 전달할 수 있는 입력의 다양성과 유연성을 확인할 수 있습니다. 개발자는 이 정보를 바탕으로 모델에 적합한 입력 데이터를 준비하고, 모델이 처리할 수 있는 입력 유형에 대해 더 잘 이해할 수 있습니다. 이는 특히 다양한 대화 시나리오나 복잡한 대화 컨텍스트를 다루는 애플리케이션을 개발할 때 유용합니다."
   ]
  },
  {
   "cell_type": "markdown",
   "metadata": {},
   "source": [
    "`chain.output_schema.schema()` 호출 결과는 체인의 마지막 부분인 ChatModel이 생성하는 출력의 스키마를 보여줍니다. 이 JSON 스키마는 ChatModel이 처리할 수 있는 다양한 유형의 메시지를 설명합니다. 여기서 중요한 부분은 다음과 같습니다:\n",
    "\n",
    "`'anyOf'`: 이 모델은 다양한 유형의 메시지를 출력할 수 있습니다. 이는 AIMessage, HumanMessage, ChatMessage, SystemMessage, FunctionMessage, ToolMessage 등 여러 메시지 유형을 포함합니다.\n",
    "각 메시지 유형의 설명:\n",
    "\n",
    "- `AIMessage` : AI로부터 온 메시지입니다. content 속성은 메시지의 내용을 포함하며, 문자열 또는 객체의 배열일 수 있습니다.\n",
    "- `HumanMessage` : 인간 사용자로부터 온 메시지입니다. 이 또한 content 속성을 포함합니다.\n",
    "- `ChatMessage` : 임의의 발화자(즉, 역할)에 할당될 수 있는 메시지입니다. content와 role 속성을 포함합니다.\n",
    "- `SystemMessage` : AI 동작을 프라이밍하기 위한 메시지로, 일반적으로 입력 메시지 시퀀스의 첫 번째로 전달됩니다.\n",
    "- `FunctionMessage` : 함수 실행 결과를 모델로 전달하기 위한 메시지입니다. content와 실행된 함수의 name을 포함합니다.\n",
    "- `ToolMessage` : 도구 실행 결과를 모델로 전달하기 위한 메시지입니다. content와 도구 호출 ID인 tool_call_id를 포함합니다.\n",
    "\n",
    "이 스키마를 통해, ChatModel이 생성할 수 있는 출력의 다양성과 유연성을 확인할 수 있습니다. 개발자는 이 정보를 바탕으로 어떤 유형의 응답을 처리해야 할지 더 잘 이해할 수 있으며, 특히 다양한 대화 시나리오나 복잡한 대화 컨텍스트를 다루는 애플리케이션을 개발할 때 유용합니다. 이러한 메시지 유형을 통해, 개발자는 사용자와의 상호작용, 시스템의 내부 동작, 또는 외부 도구와의 통합 등 다양한 측면을 더욱 세밀하게 제어할 수 있습니다."
   ]
  },
  {
   "cell_type": "markdown",
   "metadata": {},
   "source": [
    "## Output Schema\n",
    "\n",
    "`chain.output_schema.schema()` 호출 결과는 체인의 마지막 부분인 ChatModel이 생성하는 출력의 스키마를 보여줍니다. 이 JSON 스키마는 ChatModel이 처리할 수 있는 다양한 유형의 메시지를 설명합니다. 여기서 중요한 부분은 다음과 같습니다:"
   ]
  },
  {
   "cell_type": "code",
   "execution_count": null,
   "metadata": {},
   "outputs": [],
   "source": [
    "chain.output_schema.schema()"
   ]
  },
  {
   "cell_type": "code",
   "execution_count": null,
   "metadata": {},
   "outputs": [],
   "source": [
    "{'title': 'ChatOpenAIOutput',\n",
    " 'anyOf': [{'$ref': '#/definitions/AIMessage'},\n",
    "  {'$ref': '#/definitions/HumanMessage'},\n",
    "  {'$ref': '#/definitions/ChatMessage'},\n",
    "  {'$ref': '#/definitions/SystemMessage'},\n",
    "  {'$ref': '#/definitions/FunctionMessage'},\n",
    "  {'$ref': '#/definitions/ToolMessage'}],\n",
    " 'definitions': {'AIMessage': {'title': 'AIMessage',\n",
    "   'description': 'A Message from an AI.',\n",
    "   'type': 'object',\n",
    "   'properties': {'content': {'title': 'Content',\n",
    "     'anyOf': [{'type': 'string'},\n",
    "      {'type': 'array',\n",
    "       'items': {'anyOf': [{'type': 'string'}, {'type': 'object'}]}}]},\n",
    "    'additional_kwargs': {'title': 'Additional Kwargs', 'type': 'object'},\n",
    "    'type': {'title': 'Type',\n",
    "     'default': 'ai',\n",
    "     'enum': ['ai'],\n",
    "     'type': 'string'},\n",
    "    'example': {'title': 'Example', 'default': False, 'type': 'boolean'}},\n",
    "   'required': ['content']},\n",
    "  'HumanMessage': {'title': 'HumanMessage',\n",
    "   'description': 'A Message from a human.',\n",
    "   'type': 'object',\n",
    "   'properties': {'content': {'title': 'Content',\n",
    "     'anyOf': [{'type': 'string'},\n",
    "      {'type': 'array',\n",
    "       'items': {'anyOf': [{'type': 'string'}, {'type': 'object'}]}}]},\n",
    "    'additional_kwargs': {'title': 'Additional Kwargs', 'type': 'object'},\n",
    "    'type': {'title': 'Type',\n",
    "     'default': 'human',\n",
    "     'enum': ['human'],\n",
    "     'type': 'string'},\n",
    "    'example': {'title': 'Example', 'default': False, 'type': 'boolean'}},\n",
    "   'required': ['content']},\n",
    "  'ChatMessage': {'title': 'ChatMessage',\n",
    "   'description': 'A Message that can be assigned an arbitrary speaker (i.e. role).',\n",
    "   'type': 'object',\n",
    "   'properties': {'content': {'title': 'Content',\n",
    "     'anyOf': [{'type': 'string'},\n",
    "      {'type': 'array',\n",
    "       'items': {'anyOf': [{'type': 'string'}, {'type': 'object'}]}}]},\n",
    "    'additional_kwargs': {'title': 'Additional Kwargs', 'type': 'object'},\n",
    "    'type': {'title': 'Type',\n",
    "     'default': 'chat',\n",
    "     'enum': ['chat'],\n",
    "     'type': 'string'},\n",
    "    'role': {'title': 'Role', 'type': 'string'}},\n",
    "   'required': ['content', 'role']},\n",
    "  'SystemMessage': {'title': 'SystemMessage',\n",
    "   'description': 'A Message for priming AI behavior, usually passed in as the first of a sequence\\nof input messages.',\n",
    "   'type': 'object',\n",
    "   'properties': {'content': {'title': 'Content',\n",
    "     'anyOf': [{'type': 'string'},\n",
    "      {'type': 'array',\n",
    "       'items': {'anyOf': [{'type': 'string'}, {'type': 'object'}]}}]},\n",
    "    'additional_kwargs': {'title': 'Additional Kwargs', 'type': 'object'},\n",
    "    'type': {'title': 'Type',\n",
    "     'default': 'system',\n",
    "     'enum': ['system'],\n",
    "     'type': 'string'}},\n",
    "   'required': ['content']},\n",
    "  'FunctionMessage': {'title': 'FunctionMessage',\n",
    "   'description': 'A Message for passing the result of executing a function back to a model.',\n",
    "   'type': 'object',\n",
    "   'properties': {'content': {'title': 'Content',\n",
    "     'anyOf': [{'type': 'string'},\n",
    "      {'type': 'array',\n",
    "       'items': {'anyOf': [{'type': 'string'}, {'type': 'object'}]}}]},\n",
    "    'additional_kwargs': {'title': 'Additional Kwargs', 'type': 'object'},\n",
    "    'type': {'title': 'Type',\n",
    "     'default': 'function',\n",
    "     'enum': ['function'],\n",
    "     'type': 'string'},\n",
    "    'name': {'title': 'Name', 'type': 'string'}},\n",
    "   'required': ['content', 'name']},\n",
    "  'ToolMessage': {'title': 'ToolMessage',\n",
    "   'description': 'A Message for passing the result of executing a tool back to a model.',\n",
    "   'type': 'object',\n",
    "   'properties': {'content': {'title': 'Content',\n",
    "     'anyOf': [{'type': 'string'},\n",
    "      {'type': 'array',\n",
    "       'items': {'anyOf': [{'type': 'string'}, {'type': 'object'}]}}]},\n",
    "    'additional_kwargs': {'title': 'Additional Kwargs', 'type': 'object'},\n",
    "    'type': {'title': 'Type',\n",
    "     'default': 'tool',\n",
    "     'enum': ['tool'],\n",
    "     'type': 'string'},\n",
    "    'tool_call_id': {'title': 'Tool Call Id', 'type': 'string'}},\n",
    "   'required': ['content', 'tool_call_id']}}}"
   ]
  },
  {
   "cell_type": "markdown",
   "metadata": {},
   "source": [
    "'anyOf': 이 모델은 다양한 유형의 메시지를 출력할 수 있습니다. 이는 AIMessage, HumanMessage, ChatMessage, SystemMessage, FunctionMessage, ToolMessage 등 여러 메시지 유형을 포함합니다.\n",
    "각 메시지 유형의 설명:\n",
    "\n",
    "- `AIMessage` : AI로부터 온 메시지입니다. content 속성은 메시지의 내용을 포함하며, 문자열 또는 객체의 배열일 수 있습니다.\n",
    "- `HumanMessage` : 인간 사용자로부터 온 메시지입니다. 이 또한 content 속성을 포함합니다.\n",
    "- `ChatMessage` : 임의의 발화자(즉, 역할)에 할당될 수 있는 메시지입니다. content와 role 속성을 포함합니다.\n",
    "- `SystemMessage` : AI 동작을 프라이밍하기 위한 메시지로, 일반적으로 입력 메시지 시퀀스의 첫 번째로 전달됩니다.\n",
    "- `FunctionMessage` : 함수 실행 결과를 모델로 전달하기 위한 메시지입니다. content와 실행된 함수의 name을 포함합니다.\n",
    "- `ToolMessage` : 도구 실행 결과를 모델로 전달하기 위한 메시지입니다. content와 도구 호출 ID인 tool_call_id를 포함합니다.\n",
    "\n",
    "이 스키마를 통해, ChatModel이 생성할 수 있는 출력의 다양성과 유연성을 확인할 수 있습니다. 개발자는 이 정보를 바탕으로 어떤 유형의 응답을 처리해야 할지 더 잘 이해할 수 있으며, 특히 다양한 대화 시나리오나 복잡한 대화 컨텍스트를 다루는 애플리케이션을 개발할 때 유용합니다. 이러한 메시지 유형을 통해, 개발자는 사용자와의 상호작용, 시스템의 내부 동작, 또는 외부 도구와의 통합 등 다양한 측면을 더욱 세밀하게 제어할 수 있습니다."
   ]
  },
  {
   "cell_type": "markdown",
   "metadata": {},
   "source": [
    "## Stream"
   ]
  },
  {
   "cell_type": "code",
   "execution_count": null,
   "metadata": {},
   "outputs": [],
   "source": [
    "for s in chain.stream({\"topic\": \"bears\"}):\n",
    "    print(s.content, end=\"\", flush=True)"
   ]
  },
  {
   "cell_type": "markdown",
   "metadata": {},
   "source": [
    "이 코드는 주제에 대한 응답을 실시간으로 스트리밍합니다. 각 청크가 도착할 때마다 콘텐츠를 출력합니다. 이는 실시간 피드백이 필요한 상황에서 유용합니다."
   ]
  },
  {
   "cell_type": "markdown",
   "metadata": {},
   "source": [
    "## Invoke"
   ]
  },
  {
   "cell_type": "code",
   "execution_count": null,
   "metadata": {},
   "outputs": [],
   "source": [
    "chain.invoke({\"topic\": \"bears\"})"
   ]
  },
  {
   "cell_type": "markdown",
   "metadata": {},
   "source": [
    "단일 입력에 대해 체인을 호출하고, 완성된 응답을 받습니다. 이 방법은 단순하고 직접적인 상호작용에 적합합니다."
   ]
  }
 ],
 "metadata": {
  "kernelspec": {
   "display_name": "env",
   "language": "python",
   "name": "python3"
  },
  "language_info": {
   "codemirror_mode": {
    "name": "ipython",
    "version": 3
   },
   "file_extension": ".py",
   "mimetype": "text/x-python",
   "name": "python",
   "nbconvert_exporter": "python",
   "pygments_lexer": "ipython3",
   "version": "3.12.2"
  }
 },
 "nbformat": 4,
 "nbformat_minor": 2
}
